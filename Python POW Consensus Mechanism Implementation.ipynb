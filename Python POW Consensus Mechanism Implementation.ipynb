{
 "cells": [
  {
   "cell_type": "markdown",
   "id": "4c4ee374",
   "metadata": {},
   "source": [
    "## 1. Importing the Libraries"
   ]
  },
  {
   "cell_type": "code",
   "execution_count": 1,
   "id": "5bfb582b",
   "metadata": {},
   "outputs": [],
   "source": [
    "import datetime  # For timestamp blocks\n",
    "import hashlib # With this I can Use sha256 Algorithm"
   ]
  },
  {
   "cell_type": "markdown",
   "id": "bca6c89c",
   "metadata": {},
   "source": [
    "## 2. Declaring the Block Class"
   ]
  },
  {
   "cell_type": "code",
   "execution_count": 2,
   "id": "d4c71a49",
   "metadata": {},
   "outputs": [],
   "source": [
    "# Every new Block Will be add with BLOCK Class\n",
    "class Block:\n",
    "    # 1st Block Data\n",
    "    blockNo = 0  # Because It's A First Block Called 'Genesis Block'\n",
    "    data = None\n",
    "    next = None\n",
    "    hash = None\n",
    "    nonce = 0\n",
    "    previous_hash = 0x0\n",
    "    timestamp = datetime.datetime.now()\n",
    "\n",
    "    # Initializing a Data with Constructor\n",
    "    def __init__(self, data):\n",
    "        self.data = data\n",
    "    \n",
    "    # Hash Function, Using SHA256 Algorithm\n",
    "    def hash(self):\n",
    "        h = hashlib.sha256()\n",
    "        h.update(\n",
    "        str(self.nonce).encode('utf-8') +\n",
    "        str(self.data).encode('utf-8') +\n",
    "        str(self.previous_hash).encode('utf-8') +\n",
    "        str(self.timestamp).encode('utf-8') +\n",
    "        str(self.blockNo).encode('utf-8')\n",
    "        )\n",
    "        return h.hexdigest()\n",
    "    \n",
    "    # Printing Block Class Info : block’s hash and the block number.\n",
    "    def __str__(self):\n",
    "        return \"Block Hash: \" + str(self.hash()) + \"\\nBlockNo: \" + str(self.blockNo) + \"\\nBlock Data: \" + str(self.data) + \"\\nHashes (NONCE): \" + str(self.nonce) + \"\\n--------------\"\n"
   ]
  },
  {
   "cell_type": "markdown",
   "id": "63924421",
   "metadata": {},
   "source": [
    "## 3. Declaring the BlockChain Class"
   ]
  },
  {
   "cell_type": "code",
   "execution_count": 3,
   "id": "1c38db70",
   "metadata": {},
   "outputs": [],
   "source": [
    "class Blockchain:\n",
    "\n",
    "    diff = 20\n",
    "    maxNonce = 2**32\n",
    "    target = 2 ** (256-diff)\n",
    "    \n",
    "    \n",
    "    block = Block(\"Genesis\")\n",
    "    dummy = head = block\n",
    "\n",
    "    def add(self, block):\n",
    "\n",
    "        block.previous_hash = self.block.hash()\n",
    "        block.blockNo = self.block.blockNo + 1\n",
    "\n",
    "        self.block.next = block\n",
    "        self.block = self.block.next\n",
    "    \n",
    "    # Logic, For Loop : proof of work consensus mechanism\n",
    "    def mine(self, block):\n",
    "        for n in range(self.maxNonce):\n",
    "            if int(block.hash(), 16) <= self.target:\n",
    "                self.add(block)\n",
    "                print(block)\n",
    "                break\n",
    "            else:\n",
    "                block.nonce += 1\n"
   ]
  },
  {
   "cell_type": "markdown",
   "id": "6d4df313",
   "metadata": {},
   "source": [
    "## 4. Finally"
   ]
  },
  {
   "cell_type": "code",
   "execution_count": 4,
   "id": "c9c22184",
   "metadata": {},
   "outputs": [
    {
     "name": "stdout",
     "output_type": "stream",
     "text": [
      "Block Hash: db7c5721fa1089da2cf29dcfa531c936e6522a4d4e1d643c98872a2c82891157\n",
      "BlockNo: 1\n",
      "Block Data: Block 1\n",
      "Hashes (NONCE): 2584618\n",
      "--------------\n",
      "Block Hash: 09e8d62b1fb8a355efc25799acb151f985a7d3fa0ccbf3552fc5482cb7cd1612\n",
      "BlockNo: 0\n",
      "Block Data: Genesis\n",
      "Hashes (NONCE): 0\n",
      "--------------\n"
     ]
    }
   ],
   "source": [
    "# Class Object\n",
    "blockchain = Blockchain()\n",
    "\n",
    "# For 2 Blocks\n",
    "for n in range(1):\n",
    "    blockchain.mine(Block(\"Block \" + str(n+1)))\n",
    "    print(blockchain.head)\n"
   ]
  }
 ],
 "metadata": {
  "kernelspec": {
   "display_name": "Python 3",
   "language": "python",
   "name": "python3"
  },
  "language_info": {
   "codemirror_mode": {
    "name": "ipython",
    "version": 3
   },
   "file_extension": ".py",
   "mimetype": "text/x-python",
   "name": "python",
   "nbconvert_exporter": "python",
   "pygments_lexer": "ipython3",
   "version": "3.8.8"
  }
 },
 "nbformat": 4,
 "nbformat_minor": 5
}
